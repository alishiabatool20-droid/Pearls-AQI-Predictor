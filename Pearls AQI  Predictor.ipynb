{
  "nbformat": 4,
  "nbformat_minor": 0,
  "metadata": {
    "colab": {
      "provenance": [],
      "authorship_tag": "ABX9TyMT/2VU83gEscjJWFd9si4A",
      "include_colab_link": true
    },
    "kernelspec": {
      "name": "python3",
      "display_name": "Python 3"
    },
    "language_info": {
      "name": "python"
    }
  },
  "cells": [
    {
      "cell_type": "markdown",
      "metadata": {
        "id": "view-in-github",
        "colab_type": "text"
      },
      "source": [
        "<a href=\"https://colab.research.google.com/github/alishiabatool20-droid/Pearls-AQI-Predictor/blob/main/Pearls%20AQI%20%20Predictor.ipynb\" target=\"_parent\"><img src=\"https://colab.research.google.com/assets/colab-badge.svg\" alt=\"Open In Colab\"/></a>"
      ]
    },
    {
      "cell_type": "markdown",
      "source": [],
      "metadata": {
        "id": "lWp_oGrfAiye"
      }
    },
    {
      "cell_type": "code",
      "execution_count": null,
      "metadata": {
        "colab": {
          "base_uri": "https://localhost:8080/"
        },
        "id": "B_AQGVPF9stH",
        "outputId": "4ebb7f9d-c168-496d-b7be-d71e7b8cd00b"
      },
      "outputs": [
        {
          "output_type": "stream",
          "name": "stdout",
          "text": [
            "Requirement already satisfied: requests in /usr/local/lib/python3.12/dist-packages (2.32.4)\n",
            "Requirement already satisfied: pandas in /usr/local/lib/python3.12/dist-packages (2.2.2)\n",
            "Requirement already satisfied: charset_normalizer<4,>=2 in /usr/local/lib/python3.12/dist-packages (from requests) (3.4.3)\n",
            "Requirement already satisfied: idna<4,>=2.5 in /usr/local/lib/python3.12/dist-packages (from requests) (3.10)\n",
            "Requirement already satisfied: urllib3<3,>=1.21.1 in /usr/local/lib/python3.12/dist-packages (from requests) (2.5.0)\n",
            "Requirement already satisfied: certifi>=2017.4.17 in /usr/local/lib/python3.12/dist-packages (from requests) (2025.8.3)\n",
            "Requirement already satisfied: numpy>=1.26.0 in /usr/local/lib/python3.12/dist-packages (from pandas) (2.0.2)\n",
            "Requirement already satisfied: python-dateutil>=2.8.2 in /usr/local/lib/python3.12/dist-packages (from pandas) (2.9.0.post0)\n",
            "Requirement already satisfied: pytz>=2020.1 in /usr/local/lib/python3.12/dist-packages (from pandas) (2025.2)\n",
            "Requirement already satisfied: tzdata>=2022.7 in /usr/local/lib/python3.12/dist-packages (from pandas) (2025.2)\n",
            "Requirement already satisfied: six>=1.5 in /usr/local/lib/python3.12/dist-packages (from python-dateutil>=2.8.2->pandas) (1.17.0)\n"
          ]
        }
      ],
      "source": [
        "pip install requests pandas\n"
      ]
    },
    {
      "cell_type": "code",
      "source": [
        "import requests\n",
        "import pandas as pd\n",
        "\n",
        "API_KEY = \"33495808f225717594d6c59635b63f87\"\n",
        "lat = 24.8607   # Karachi latitude\n",
        "lon = 67.0011   # Karachi longitude\n",
        "url_weather = f\"https://api.openweathermap.org/data/2.5/forecast?lat={lat}&lon={lon}&appid={API_KEY}\"\n",
        "\n",
        "response_weather = requests.get(url_weather)\n",
        "data_weather = response_weather.json()\n",
        "\n",
        "# convert json to dataframe\n",
        "df_weather = pd.json_normalize(data_weather['list'])\n",
        "print(df_weather.head())\n",
        "\n"
      ],
      "metadata": {
        "colab": {
          "base_uri": "https://localhost:8080/"
        },
        "id": "ni6VnazWCgi8",
        "outputId": "ecc0e2dc-439b-48eb-f625-f71e136265f2"
      },
      "execution_count": null,
      "outputs": [
        {
          "output_type": "stream",
          "name": "stdout",
          "text": [
            "           dt                                            weather  visibility  \\\n",
            "0  1758877200  [{'id': 803, 'main': 'Clouds', 'description': ...       10000   \n",
            "1  1758888000  [{'id': 803, 'main': 'Clouds', 'description': ...       10000   \n",
            "2  1758898800  [{'id': 802, 'main': 'Clouds', 'description': ...       10000   \n",
            "3  1758909600  [{'id': 801, 'main': 'Clouds', 'description': ...       10000   \n",
            "4  1758920400  [{'id': 800, 'main': 'Clear', 'description': '...       10000   \n",
            "\n",
            "   pop               dt_txt  main.temp  main.feels_like  main.temp_min  \\\n",
            "0    0  2025-09-26 09:00:00     305.22           308.94         302.73   \n",
            "1    0  2025-09-26 12:00:00     304.19           308.08         302.12   \n",
            "2    0  2025-09-26 15:00:00     302.38           306.19         300.96   \n",
            "3    0  2025-09-26 18:00:00     300.33           303.19         300.33   \n",
            "4    0  2025-09-26 21:00:00     299.73           299.73         299.73   \n",
            "\n",
            "   main.temp_max  main.pressure  main.sea_level  main.grnd_level  \\\n",
            "0         305.22           1006            1006             1004   \n",
            "1         304.19           1006            1006             1004   \n",
            "2         302.38           1007            1007             1005   \n",
            "3         300.33           1009            1009             1007   \n",
            "4         299.73           1008            1008             1006   \n",
            "\n",
            "   main.humidity  main.temp_kf  clouds.all  wind.speed  wind.deg  wind.gust  \\\n",
            "0             55          2.49          75        4.63       245       3.89   \n",
            "1             60          2.07          62        4.65       250       3.84   \n",
            "2             69          1.42          40        4.50       241       4.57   \n",
            "3             79          0.00          14        5.06       271       5.26   \n",
            "4             82          0.00           3        5.38       295       5.89   \n",
            "\n",
            "  sys.pod  \n",
            "0       d  \n",
            "1       d  \n",
            "2       n  \n",
            "3       n  \n",
            "4       n  \n"
          ]
        }
      ]
    },
    {
      "cell_type": "code",
      "source": [
        "url_aqi = f\"http://api.openweathermap.org/data/2.5/air_pollution/forecast?lat={lat}&lon={lon}&appid={API_KEY}\"\n",
        "\n",
        "response_aqi = requests.get(url_aqi)\n",
        "data_aqi = response_aqi.json()\n",
        "\n",
        "# convert to dataframe\n",
        "df_aqi = pd.json_normalize(data_aqi['list'])\n",
        "print(df_aqi.head())\n",
        "\n"
      ],
      "metadata": {
        "colab": {
          "base_uri": "https://localhost:8080/"
        },
        "id": "1w7OezGdEATX",
        "outputId": "4cbf7131-b00b-4b55-fa90-320c901bb216"
      },
      "execution_count": null,
      "outputs": [
        {
          "output_type": "stream",
          "name": "stdout",
          "text": [
            "           dt  main.aqi  components.co  components.no  components.no2  \\\n",
            "0  1758873600         2          91.71           0.01            0.03   \n",
            "1  1758877200         2          91.36           0.01            0.03   \n",
            "2  1758880800         2          91.26           0.01            0.03   \n",
            "3  1758884400         2          91.01           0.01            0.03   \n",
            "4  1758888000         2          90.67           0.00            0.03   \n",
            "\n",
            "   components.o3  components.so2  components.pm2_5  components.pm10  \\\n",
            "0          47.54            0.09              8.34            34.41   \n",
            "1          46.58            0.09              8.32            34.00   \n",
            "2          45.90            0.09              8.32            33.73   \n",
            "3          45.22            0.08              8.24            33.15   \n",
            "4          44.76            0.08              8.04            32.00   \n",
            "\n",
            "   components.nh3  \n",
            "0               0  \n",
            "1               0  \n",
            "2               0  \n",
            "3               0  \n",
            "4               0  \n"
          ]
        }
      ]
    },
    {
      "cell_type": "code",
      "source": [
        "# Convert AQI timestamp to datetime\n",
        "df_aqi['dt'] = pd.to_datetime(df_aqi['dt'], unit='s')\n",
        "\n",
        "# Weather datetime\n",
        "df_weather['dt'] = pd.to_datetime(df_weather['dt'], unit='s', errors='ignore')\n",
        "\n",
        "# merge dono\n",
        "df = pd.merge(df_weather, df_aqi, on='dt', how='inner')\n",
        "print(df.head())\n"
      ],
      "metadata": {
        "colab": {
          "base_uri": "https://localhost:8080/"
        },
        "id": "nL95SKTjEKWy",
        "outputId": "eb9ce44c-c7de-47d9-84bd-5c5c8723ab51"
      },
      "execution_count": null,
      "outputs": [
        {
          "output_type": "stream",
          "name": "stdout",
          "text": [
            "                   dt                                            weather  \\\n",
            "0 2025-09-26 09:00:00  [{'id': 803, 'main': 'Clouds', 'description': ...   \n",
            "1 2025-09-26 12:00:00  [{'id': 803, 'main': 'Clouds', 'description': ...   \n",
            "2 2025-09-26 15:00:00  [{'id': 802, 'main': 'Clouds', 'description': ...   \n",
            "3 2025-09-26 18:00:00  [{'id': 801, 'main': 'Clouds', 'description': ...   \n",
            "4 2025-09-26 21:00:00  [{'id': 800, 'main': 'Clear', 'description': '...   \n",
            "\n",
            "   visibility  pop               dt_txt  main.temp  main.feels_like  \\\n",
            "0       10000    0  2025-09-26 09:00:00     305.22           308.94   \n",
            "1       10000    0  2025-09-26 12:00:00     304.19           308.08   \n",
            "2       10000    0  2025-09-26 15:00:00     302.38           306.19   \n",
            "3       10000    0  2025-09-26 18:00:00     300.33           303.19   \n",
            "4       10000    0  2025-09-26 21:00:00     299.73           299.73   \n",
            "\n",
            "   main.temp_min  main.temp_max  main.pressure  ...  sys.pod  main.aqi  \\\n",
            "0         302.73         305.22           1006  ...        d         2   \n",
            "1         302.12         304.19           1006  ...        d         2   \n",
            "2         300.96         302.38           1007  ...        n         2   \n",
            "3         300.33         300.33           1009  ...        n         2   \n",
            "4         299.73         299.73           1008  ...        n         2   \n",
            "\n",
            "   components.co  components.no  components.no2  components.o3  \\\n",
            "0          91.36           0.01            0.03          46.58   \n",
            "1          90.67           0.00            0.03          44.76   \n",
            "2          90.77           0.00            0.04          44.30   \n",
            "3          90.95           0.00            0.05          44.09   \n",
            "4          90.72           0.00            0.04          44.15   \n",
            "\n",
            "   components.so2  components.pm2_5 components.pm10  components.nh3  \n",
            "0            0.09              8.32           34.00               0  \n",
            "1            0.08              8.04           32.00               0  \n",
            "2            0.07              7.58           29.40               0  \n",
            "3            0.06              6.97           26.50               0  \n",
            "4            0.07              6.47           24.61               0  \n",
            "\n",
            "[5 rows x 28 columns]\n"
          ]
        },
        {
          "output_type": "stream",
          "name": "stderr",
          "text": [
            "/tmp/ipython-input-2255834805.py:5: FutureWarning: errors='ignore' is deprecated and will raise in a future version. Use to_datetime without passing `errors` and catch exceptions explicitly instead\n",
            "  df_weather['dt'] = pd.to_datetime(df_weather['dt'], unit='s', errors='ignore')\n"
          ]
        }
      ]
    },
    {
      "cell_type": "code",
      "source": [
        "# time-based features\n",
        "df['hour'] = df['dt'].dt.hour\n",
        "df['day'] = df['dt'].dt.day\n",
        "df['month'] = df['dt'].dt.month\n",
        "\n",
        "# AQI change rate\n",
        "df['aqi_change'] = df['main.aqi'].diff()\n",
        "\n",
        "df = pd.merge(df_weather, df_aqi, on='dt', how='inner')\n",
        "print(\"Merged rows:\", len(df))\n",
        "print(df.head())\n"
      ],
      "metadata": {
        "colab": {
          "base_uri": "https://localhost:8080/"
        },
        "id": "U6Ku3OQXEm9k",
        "outputId": "56bbe396-5000-46a7-f698-eb0fb6a1dd44"
      },
      "execution_count": null,
      "outputs": [
        {
          "output_type": "stream",
          "name": "stdout",
          "text": [
            "Merged rows: 32\n",
            "                   dt                                            weather  \\\n",
            "0 2025-09-26 09:00:00  [{'id': 803, 'main': 'Clouds', 'description': ...   \n",
            "1 2025-09-26 12:00:00  [{'id': 803, 'main': 'Clouds', 'description': ...   \n",
            "2 2025-09-26 15:00:00  [{'id': 802, 'main': 'Clouds', 'description': ...   \n",
            "3 2025-09-26 18:00:00  [{'id': 801, 'main': 'Clouds', 'description': ...   \n",
            "4 2025-09-26 21:00:00  [{'id': 800, 'main': 'Clear', 'description': '...   \n",
            "\n",
            "   visibility  pop               dt_txt  main.temp  main.feels_like  \\\n",
            "0       10000    0  2025-09-26 09:00:00     305.22           308.94   \n",
            "1       10000    0  2025-09-26 12:00:00     304.19           308.08   \n",
            "2       10000    0  2025-09-26 15:00:00     302.38           306.19   \n",
            "3       10000    0  2025-09-26 18:00:00     300.33           303.19   \n",
            "4       10000    0  2025-09-26 21:00:00     299.73           299.73   \n",
            "\n",
            "   main.temp_min  main.temp_max  main.pressure  ...  sys.pod  main.aqi  \\\n",
            "0         302.73         305.22           1006  ...        d         2   \n",
            "1         302.12         304.19           1006  ...        d         2   \n",
            "2         300.96         302.38           1007  ...        n         2   \n",
            "3         300.33         300.33           1009  ...        n         2   \n",
            "4         299.73         299.73           1008  ...        n         2   \n",
            "\n",
            "   components.co  components.no  components.no2  components.o3  \\\n",
            "0          91.36           0.01            0.03          46.58   \n",
            "1          90.67           0.00            0.03          44.76   \n",
            "2          90.77           0.00            0.04          44.30   \n",
            "3          90.95           0.00            0.05          44.09   \n",
            "4          90.72           0.00            0.04          44.15   \n",
            "\n",
            "   components.so2  components.pm2_5 components.pm10  components.nh3  \n",
            "0            0.09              8.32           34.00               0  \n",
            "1            0.08              8.04           32.00               0  \n",
            "2            0.07              7.58           29.40               0  \n",
            "3            0.06              6.97           26.50               0  \n",
            "4            0.07              6.47           24.61               0  \n",
            "\n",
            "[5 rows x 28 columns]\n"
          ]
        }
      ]
    }
  ]
}